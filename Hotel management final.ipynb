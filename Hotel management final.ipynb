{
 "cells": [
  {
   "cell_type": "code",
   "execution_count": 1,
   "metadata": {},
   "outputs": [
    {
     "name": "stdout",
     "output_type": "stream",
     "text": [
      "Welcome to MyHotel\n"
     ]
    },
    {
     "ename": "NameError",
     "evalue": "name 'menu' is not defined",
     "output_type": "error",
     "traceback": [
      "\u001b[1;31m---------------------------------------------------------------------------\u001b[0m",
      "\u001b[1;31mNameError\u001b[0m                                 Traceback (most recent call last)",
      "\u001b[1;32m<ipython-input-1-d52eb32ee094>\u001b[0m in \u001b[0;36m<module>\u001b[1;34m\u001b[0m\n\u001b[0;32m      1\u001b[0m \u001b[0mprint\u001b[0m\u001b[1;33m(\u001b[0m\u001b[1;34m\"Welcome to MyHotel\"\u001b[0m\u001b[1;33m)\u001b[0m\u001b[1;33m\u001b[0m\u001b[1;33m\u001b[0m\u001b[0m\n\u001b[1;32m----> 2\u001b[1;33m \u001b[0mmenu\u001b[0m\u001b[1;33m(\u001b[0m\u001b[1;33m)\u001b[0m\u001b[1;33m\u001b[0m\u001b[1;33m\u001b[0m\u001b[0m\n\u001b[0m",
      "\u001b[1;31mNameError\u001b[0m: name 'menu' is not defined"
     ]
    }
   ],
   "source": [
    "print(\"Welcome to MyHotel\")\n",
    "menu()"
   ]
  },
  {
   "cell_type": "code",
   "execution_count": 2,
   "metadata": {},
   "outputs": [],
   "source": [
    "def menu():\n",
    "    print(\"Veg      : 1\")\n",
    "    print(\"Non-Veg  : 2\")\n",
    "    print(\"Desserts : 4\")\n",
    "    print(\"Bill     : 3\")\n",
    "    select=int(input(\"Enter your choice : \"))\n",
    "    if(select==1):\n",
    "        print(\"    --------VEG-------\")\n",
    "        veg()\n",
    "    elif(select==2):\n",
    "        print(\"    ------NON VEG-----\")\n",
    "        nonveg()\n",
    "    elif(select==4):\n",
    "        print(\"    ------DESSERT-----\")\n",
    "        dessert()\n",
    "    elif(select==3):\n",
    "        bill()\n",
    "    else:\n",
    "        print(\"invalid selection\")\n",
    "        menu()\n",
    "    "
   ]
  },
  {
   "cell_type": "code",
   "execution_count": 3,
   "metadata": {},
   "outputs": [],
   "source": [
    "def veg():\n",
    "    print(\"1) Idli          50 Rs\")\n",
    "    print(\"2) Dosa          70 Rs\")\n",
    "    opt=int(input(\"Select item to order\"))\n",
    "    if(opt==1):\n",
    "        iqty=int(input(\"No.of plates :\"))\n",
    "        TotalIdliQuantity(iqty)\n",
    "    elif(opt==2):\n",
    "        dqty=int(input(\"No.of plates :\"))\n",
    "        TotalDosaQuantity(dqty)\n",
    "    else:\n",
    "        print(\"invalid selection\")\n",
    "        veg()"
   ]
  },
  {
   "cell_type": "code",
   "execution_count": 4,
   "metadata": {},
   "outputs": [],
   "source": [
    "totalIdli = 0\n",
    "def TotalIdliQuantity(iqty):\n",
    "    global totalIdli\n",
    "    totalIdli = totalIdli + iqty   \n",
    "    menu()\n",
    "\n",
    "def idlicount():\n",
    "    return totalIdli\n",
    "\n",
    "def idliprice():\n",
    "    return 50\n",
    "\n",
    "def idliname():\n",
    "    return \"idli\" "
   ]
  },
  {
   "cell_type": "code",
   "execution_count": 5,
   "metadata": {},
   "outputs": [],
   "source": [
    "def ibill():\n",
    "    print(idliname(),\"     \", idlicount(),\"     \", idliprice(),\"      \", idlicount()*idliprice())"
   ]
  },
  {
   "cell_type": "code",
   "execution_count": 6,
   "metadata": {},
   "outputs": [],
   "source": [
    "totalDosa = 0\n",
    "def TotalDosaQuantity(dqty):\n",
    "    global totalDosa\n",
    "    totalDosa = totalDosa + dqty   \n",
    "    menu()\n",
    "\n",
    "def dosacount():\n",
    "    return totalDosa\n",
    "\n",
    "def dosaprice():\n",
    "    return 70\n",
    "\n",
    "def dosaname():\n",
    "    return \"Dosa\" "
   ]
  },
  {
   "cell_type": "code",
   "execution_count": 7,
   "metadata": {},
   "outputs": [],
   "source": [
    "def dbill():\n",
    "    print(dosaname(),\"       \" ,  dosacount(),\"       \" ,  dosaprice(),\"       \" ,  dosacount()*dosaprice())"
   ]
  },
  {
   "cell_type": "code",
   "execution_count": 8,
   "metadata": {},
   "outputs": [],
   "source": [
    "def nonveg():\n",
    "    print(\"1) Tandoori      150 Rs\")\n",
    "    print(\"2) Biryani       120 Rs\")\n",
    "    opt=int(input(\"Select item to order\"))\n",
    "    if(opt==1):\n",
    "        tqty=int(input(\"Enter no. of plates : \"))\n",
    "        TotalTandooriQty(tqty)\n",
    "    elif(opt==2):\n",
    "        bqty=int(input(\"Enter no. of plates : \"))\n",
    "        TotalBiryaniQty(bqty)\n",
    "    else:\n",
    "        print(\"invalid selection\")\n",
    "        nonveg()"
   ]
  },
  {
   "cell_type": "code",
   "execution_count": 9,
   "metadata": {},
   "outputs": [],
   "source": [
    "totaltandoori=0\n",
    "def TotalTandooriQty(tqty):\n",
    "    global totaltandoori\n",
    "    totaltandoori=totaltandoori+tqty\n",
    "    menu()\n",
    "    \n",
    "def tandooricount():\n",
    "    return totaltandoori\n",
    "\n",
    "def tandooriprice():\n",
    "    return 150\n",
    "\n",
    "def tandooriname():\n",
    "    return \"Tandoori\""
   ]
  },
  {
   "cell_type": "code",
   "execution_count": 10,
   "metadata": {},
   "outputs": [],
   "source": [
    "def tbill():\n",
    "    print(tandooriname(),\"       \", tandooricount(),\"       \" , tandooriprice(),\"       \" , tandooricount()*tandooriprice())"
   ]
  },
  {
   "cell_type": "code",
   "execution_count": 11,
   "metadata": {},
   "outputs": [],
   "source": [
    "totalBiryani=0\n",
    "def TotalBiryaniQty(bqty):\n",
    "    global totalBiryani\n",
    "    totalBiryani=totalBiryani+bqty\n",
    "    menu()\n",
    "    \n",
    "def biryanicount():\n",
    "    return totalBiryani\n",
    "\n",
    "def biryaniprice():\n",
    "    return 120\n",
    "\n",
    "def biryaniname():\n",
    "    return \"Biryani\"\n",
    "    "
   ]
  },
  {
   "cell_type": "code",
   "execution_count": 12,
   "metadata": {},
   "outputs": [],
   "source": [
    "def bbill():\n",
    "    print(biryaniname(),\"       \" , biryanicount(),\"       \"     ,biryaniprice(),\"       \"       ,biryanicount()*biryaniprice())"
   ]
  },
  {
   "cell_type": "code",
   "execution_count": 13,
   "metadata": {},
   "outputs": [],
   "source": [
    "def dessert():\n",
    "    print(\"1) Rasgulla         12 Rs\")\n",
    "    print(\"2) Gulabjamun       15 Rs\")\n",
    "    opt=int(input(\"Select item to order\"))\n",
    "    if(opt==1):\n",
    "        rqty=int(input(\"Enter no. of pieces : \"))\n",
    "        TotalRasgullaQty(rqty)\n",
    "    elif(opt==2):\n",
    "        gqty=int(input(\"Enter no. of pieces : \"))\n",
    "        TotalGulabQty(gqty)\n",
    "    else:\n",
    "        print(\"invalid selection\")\n",
    "        dessert()"
   ]
  },
  {
   "cell_type": "code",
   "execution_count": 14,
   "metadata": {},
   "outputs": [],
   "source": [
    "totalrasgulla=0\n",
    "def TotalRasgullaQty(rqty):\n",
    "    global totalrasgulla\n",
    "    totalrasgulla=totalrasgulla+rqty\n",
    "    menu()\n",
    "    \n",
    "def rasgullacount():\n",
    "    return totalrasgulla\n",
    "\n",
    "def rasgullaprice():\n",
    "    return 12\n",
    "\n",
    "def rasgullaname():\n",
    "    return \"Rasgulla\""
   ]
  },
  {
   "cell_type": "code",
   "execution_count": 15,
   "metadata": {},
   "outputs": [],
   "source": [
    "totalgulab=0\n",
    "def TotalGulabQty(gqty):\n",
    "    global totalgulab\n",
    "    totalgulab=totalgulab+gqty\n",
    "    menu()\n",
    "    \n",
    "def gulabcount():\n",
    "    return totalgulab\n",
    "\n",
    "def gulabprice():\n",
    "    return 15\n",
    "\n",
    "def gulabname():\n",
    "    return \"Gulabjamun\""
   ]
  },
  {
   "cell_type": "code",
   "execution_count": 16,
   "metadata": {},
   "outputs": [],
   "source": [
    "def bill():\n",
    "    print(\"-------------------BILL--------------------\")\n",
    "    print(\"Name     Qty     Price    Amount\")\n",
    "    if(idlicount() > 0):\n",
    "        print(idliname()    ,\"     \",idlicount()    ,\"     \", idliprice()    ,\"     \",idlicount()*idliprice())\n",
    "    if(dosacount() > 0):\n",
    "        print(dosaname()    ,\"     \",dosacount()    ,\"     \",  dosaprice()   ,\"     \",dosacount()*dosaprice())\n",
    "    if(tandooricount() > 0):\n",
    "        print(tandooriname(),\" \",tandooricount(),\"    \", tandooriprice(),\"     \",tandooricount()*tandooriprice())\n",
    "    if(biryanicount() > 0):\n",
    "        print(biryaniname() ,\"  \",biryanicount() ,\"    \",biryaniprice()  ,\"     \" ,biryanicount()*biryaniprice())\n",
    "    if(rasgullacount() > 0):\n",
    "        print(rasgullaname(),\"  \",rasgullacount(),\"    \",rasgullaprice() ,\"     \" ,rasgullacount()*rasgullaprice())\n",
    "    if(gulabcount()>0):\n",
    "        print(gulabname() ,\"    \",gulabcount()   ,\"    \",gulabprice(), \"      \", gulabcount()*gulabprice())\n",
    "    print(\"-------------------------------------------\")    \n",
    "    TotalAmount()"
   ]
  },
  {
   "cell_type": "code",
   "execution_count": 17,
   "metadata": {},
   "outputs": [],
   "source": [
    "def TotalAmount():\n",
    "    TotalAmount=idlicount()*idliprice() + dosacount()*dosaprice() + tandooricount()*tandooriprice() + biryanicount()*biryaniprice()+rasgullacount()*rasgullaprice()+gulabcount()*gulabprice()\n",
    "    print(\"          Total Amount : Rs\",TotalAmount)\n",
    "    day=str(input(\"Enter day : \"))\n",
    "    if(day==\"wed\" or day==\"fri\"):\n",
    "        Discount=(15/100)*TotalAmount\n",
    "        FinalAmount=TotalAmount-Discount\n",
    "        print(\"Congratulations ...!!! OFFER APPLIED..\")\n",
    "        print(\"   Discount (15%) = (-)Rs.\",Discount)\n",
    "        print(\"Total Amount After Discount : Rs. \",FinalAmount)\n",
    "        print(\"------------------------------------\")\n",
    "        print(\"Thanks for ordering..\")\n",
    "    else:\n",
    "        print(\"No Discount Today..\")\n",
    "        print(\"Thank you for ordering..\")"
   ]
  }
 ],
 "metadata": {
  "kernelspec": {
   "display_name": "Python 3",
   "language": "python",
   "name": "python3"
  },
  "language_info": {
   "codemirror_mode": {
    "name": "ipython",
    "version": 3
   },
   "file_extension": ".py",
   "mimetype": "text/x-python",
   "name": "python",
   "nbconvert_exporter": "python",
   "pygments_lexer": "ipython3",
   "version": "3.8.3"
  }
 },
 "nbformat": 4,
 "nbformat_minor": 4
}
